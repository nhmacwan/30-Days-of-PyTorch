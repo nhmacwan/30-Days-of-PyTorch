{
  "nbformat": 4,
  "nbformat_minor": 0,
  "metadata": {
    "colab": {
      "provenance": [],
      "gpuType": "T4"
    },
    "kernelspec": {
      "name": "python3",
      "display_name": "Python 3"
    },
    "language_info": {
      "name": "python"
    },
    "accelerator": "GPU"
  },
  "cells": [
    {
      "cell_type": "code",
      "execution_count": 1,
      "metadata": {
        "colab": {
          "base_uri": "https://localhost:8080/",
          "height": 35
        },
        "id": "8sihb09sGw_a",
        "outputId": "69a7a69d-1fb8-43c5-c5e2-a13eb191a419"
      },
      "outputs": [
        {
          "output_type": "execute_result",
          "data": {
            "text/plain": [
              "'2.0.1+cu118'"
            ],
            "application/vnd.google.colaboratory.intrinsic+json": {
              "type": "string"
            }
          },
          "metadata": {},
          "execution_count": 1
        }
      ],
      "source": [
        "import torch\n",
        "from tqdm import tqdm\n",
        "torch.__version__"
      ]
    },
    {
      "cell_type": "markdown",
      "source": [
        "In this day 4 challenge we are going to implement a Convolutional Neural Network. We are going to use MNIST dataset to train the network.</br>\n",
        "\n",
        "<img src=\"https://upload.wikimedia.org/wikipedia/commons/thumb/c/cc/Comparison_image_neural_networks.svg/512px-Comparison_image_neural_networks.svg.png\" alt=\"LeNet Architecture\"></img></br>\n",
        "\n",
        "<h5> Source: Wikipedia </h5>\n"
      ],
      "metadata": {
        "id": "Hne7_KVrHQ1t"
      }
    },
    {
      "cell_type": "code",
      "source": [
        "#!nvidia-smi\n",
        "\n",
        "# the following line of code is used for setting the device for traing\n",
        "# if we have a gpu it will set as GPU otherwise default machine\n",
        "# Note that recent GPU's are significantly faster than CPUs\n",
        "\n",
        "device =\"cuda\" if torch.cuda.is_available() else \"cpu\"\n",
        "device"
      ],
      "metadata": {
        "colab": {
          "base_uri": "https://localhost:8080/",
          "height": 35
        },
        "id": "BSqBI91qLqUy",
        "outputId": "b1c2c804-713f-4e2f-827d-c5323573c45a"
      },
      "execution_count": 3,
      "outputs": [
        {
          "output_type": "execute_result",
          "data": {
            "text/plain": [
              "'cuda'"
            ],
            "application/vnd.google.colaboratory.intrinsic+json": {
              "type": "string"
            }
          },
          "metadata": {},
          "execution_count": 3
        }
      ]
    },
    {
      "cell_type": "markdown",
      "source": [
        "### 2. Import Dataset\n",
        "\n",
        "* `torch.utils.data` is a pytorch api to create your own dataset to train your models\n",
        "* `torchvision.datasets` is a collection of preexisting datasets\n",
        "* `ToTensor()` is used for converting data to appropriate format for operations"
      ],
      "metadata": {
        "id": "L-7EO5HtH8jN"
      }
    },
    {
      "cell_type": "code",
      "source": [
        "from torch.utils.data import DataLoader\n",
        "from torchvision import datasets\n",
        "from torchvision.transforms import ToTensor\n",
        "import matplotlib.pyplot as plt"
      ],
      "metadata": {
        "id": "6VFZFcS6Ke5S"
      },
      "execution_count": 4,
      "outputs": []
    },
    {
      "cell_type": "code",
      "source": [
        "train_data = datasets.MNIST(\n",
        "    root=\"data\",\n",
        "    train=True,\n",
        "    download=True,\n",
        "    transform=ToTensor()\n",
        ")\n",
        "\n",
        "test_data = datasets.MNIST(\n",
        "    root=\"data\",\n",
        "    train=False,\n",
        "    download=True,\n",
        "    transform=ToTensor()\n",
        ")"
      ],
      "metadata": {
        "id": "fFP8ck34KrGa",
        "colab": {
          "base_uri": "https://localhost:8080/"
        },
        "outputId": "96df7146-735d-4f34-fff7-7921064d1905"
      },
      "execution_count": 5,
      "outputs": [
        {
          "output_type": "stream",
          "name": "stdout",
          "text": [
            "Downloading http://yann.lecun.com/exdb/mnist/train-images-idx3-ubyte.gz\n",
            "Downloading http://yann.lecun.com/exdb/mnist/train-images-idx3-ubyte.gz to data/MNIST/raw/train-images-idx3-ubyte.gz\n"
          ]
        },
        {
          "output_type": "stream",
          "name": "stderr",
          "text": [
            "100%|██████████| 9912422/9912422 [00:00<00:00, 162754153.42it/s]"
          ]
        },
        {
          "output_type": "stream",
          "name": "stdout",
          "text": [
            "Extracting data/MNIST/raw/train-images-idx3-ubyte.gz to data/MNIST/raw\n"
          ]
        },
        {
          "output_type": "stream",
          "name": "stderr",
          "text": [
            "\n"
          ]
        },
        {
          "output_type": "stream",
          "name": "stdout",
          "text": [
            "\n",
            "Downloading http://yann.lecun.com/exdb/mnist/train-labels-idx1-ubyte.gz\n",
            "Downloading http://yann.lecun.com/exdb/mnist/train-labels-idx1-ubyte.gz to data/MNIST/raw/train-labels-idx1-ubyte.gz\n"
          ]
        },
        {
          "output_type": "stream",
          "name": "stderr",
          "text": [
            "100%|██████████| 28881/28881 [00:00<00:00, 21697240.52it/s]\n"
          ]
        },
        {
          "output_type": "stream",
          "name": "stdout",
          "text": [
            "Extracting data/MNIST/raw/train-labels-idx1-ubyte.gz to data/MNIST/raw\n",
            "\n",
            "Downloading http://yann.lecun.com/exdb/mnist/t10k-images-idx3-ubyte.gz\n",
            "Downloading http://yann.lecun.com/exdb/mnist/t10k-images-idx3-ubyte.gz to data/MNIST/raw/t10k-images-idx3-ubyte.gz\n"
          ]
        },
        {
          "output_type": "stream",
          "name": "stderr",
          "text": [
            "100%|██████████| 1648877/1648877 [00:00<00:00, 139808183.16it/s]\n"
          ]
        },
        {
          "output_type": "stream",
          "name": "stdout",
          "text": [
            "Extracting data/MNIST/raw/t10k-images-idx3-ubyte.gz to data/MNIST/raw\n",
            "\n",
            "Downloading http://yann.lecun.com/exdb/mnist/t10k-labels-idx1-ubyte.gz\n",
            "Downloading http://yann.lecun.com/exdb/mnist/t10k-labels-idx1-ubyte.gz to data/MNIST/raw/t10k-labels-idx1-ubyte.gz\n"
          ]
        },
        {
          "output_type": "stream",
          "name": "stderr",
          "text": [
            "100%|██████████| 4542/4542 [00:00<00:00, 22760488.37it/s]\n"
          ]
        },
        {
          "output_type": "stream",
          "name": "stdout",
          "text": [
            "Extracting data/MNIST/raw/t10k-labels-idx1-ubyte.gz to data/MNIST/raw\n",
            "\n"
          ]
        }
      ]
    },
    {
      "cell_type": "code",
      "source": [
        "# print(f\"Train data has {len(train_data)} images\")\n",
        "# print(f\"Train data has {len(train_data)} images\")"
      ],
      "metadata": {
        "id": "Ly1uTANqOUwb"
      },
      "execution_count": 6,
      "outputs": []
    },
    {
      "cell_type": "markdown",
      "source": [
        "### 3. Visulaize the Dataset"
      ],
      "metadata": {
        "id": "TA6F8lCUOw6R"
      }
    },
    {
      "cell_type": "code",
      "source": [
        "image, target = train_data[9] # we will pick 10th datapoint\n",
        "\n",
        "plt.imshow(image.permute(1,2,0), cmap =\"binary\")\n",
        "plt.title(f\"target: {target}\")\n",
        "plt.show()\n",
        "\n",
        "print()\n",
        "# permute is to represent data correctly\n",
        "# the  PyTorch format is (1, 28, 28) that is (Channel, Height, Width)\n",
        "# While the imshow function expects data in numpy array format that is (Height, Width, Channel)\n",
        "# i.e. (28, 28, 1) in our case"
      ],
      "metadata": {
        "colab": {
          "base_uri": "https://localhost:8080/",
          "height": 469
        },
        "id": "uOZuM2xgO9Mk",
        "outputId": "2e3fd301-0952-4655-91f9-018dfd20d329"
      },
      "execution_count": 7,
      "outputs": [
        {
          "output_type": "display_data",
          "data": {
            "text/plain": [
              "<Figure size 640x480 with 1 Axes>"
            ],
            "image/png": "[encoded data removed]"
          },
          "metadata": {}
        },
        {
          "output_type": "stream",
          "name": "stdout",
          "text": [
            "\n"
          ]
        }
      ]
    },
    {
      "cell_type": "code",
      "source": [
        "# rand_idx = torch.randint(0,len(train_data), size=(1,)).item()\n",
        "# print(rand_idx)\n",
        "# image, target = train_data[rand_idx]\n",
        "# print(image, label)"
      ],
      "metadata": {
        "id": "pBDZub4pT0ER"
      },
      "execution_count": 8,
      "outputs": []
    },
    {
      "cell_type": "code",
      "source": [
        "# Let's visualize some more images\n",
        "\n",
        "figure = plt.figure(figsize=(8,8))\n",
        "cols, rows = 4, 4\n",
        "# we will randomly select 16 data instances to plot\n",
        "for i in range(1, rows* cols + 1):\n",
        "  random_idx = torch.randint(0,len(train_data), size=(1,)).item()\n",
        "  image, target = train_data[random_idx]\n",
        "  figure.add_subplot(rows, cols, i)\n",
        "  plt.imshow(image.permute(1,2,0), cmap=\"binary\")\n",
        "  plt.title(f\"target: {target}\")\n",
        "  plt.axis(\"off\")\n",
        "plt.show()"
      ],
      "metadata": {
        "colab": {
          "base_uri": "https://localhost:8080/",
          "height": 675
        },
        "id": "kQaqbczWROlR",
        "outputId": "413c4b30-1e9a-48a1-a64d-855803155e91"
      },
      "execution_count": 9,
      "outputs": [
        {
          "output_type": "display_data",
          "data": {
            "text/plain": [
              "<Figure size 800x800 with 16 Axes>"
            ],
            "image/png": "[encoded data removed]"
          },
          "metadata": {}
        }
      ]
    },
    {
      "cell_type": "markdown",
      "source": [
        "### 3. Set up Dataloader\n",
        "* It isn't always necessary to use dataloader but it makes easy for us to shuffle the data and split into batches\n",
        "* Exlpore More About the Batch Size: [Article on Batch Size](\"https://deeplizard.com/learn/video/U4WB9p6ODjM\") by DeepLizard"
      ],
      "metadata": {
        "id": "J8ucRUnfTLDo"
      }
    },
    {
      "cell_type": "code",
      "source": [
        "# Batch Size\n",
        "\n",
        "BATCH_SIZE = 16\n",
        "\n",
        "train_dataloader = DataLoader(dataset = train_data,\n",
        "                              batch_size=BATCH_SIZE,\n",
        "                              shuffle=True,\n",
        "                              num_workers = 8)\n",
        "# test data\n",
        "test_dataloader = DataLoader(dataset = test_data,\n",
        "                              shuffle=True,\n",
        "                              num_workers = 8)"
      ],
      "metadata": {
        "colab": {
          "base_uri": "https://localhost:8080/"
        },
        "id": "XOaFDOFpZTsg",
        "outputId": "e220a983-9e24-4d3e-8c35-b49d8ae5e681"
      },
      "execution_count": 10,
      "outputs": [
        {
          "output_type": "stream",
          "name": "stderr",
          "text": [
            "/usr/local/lib/python3.10/dist-packages/torch/utils/data/dataloader.py:560: UserWarning: This DataLoader will create 8 worker processes in total. Our suggested max number of worker in current system is 2, which is smaller than what this DataLoader is going to create. Please be aware that excessive worker creation might get DataLoader running slow or even freeze, lower the worker number to avoid potential slowness/freeze if necessary.\n",
            "  warnings.warn(_create_warning_msg(\n"
          ]
        }
      ]
    },
    {
      "cell_type": "code",
      "source": [],
      "metadata": {
        "id": "4yvuYNQahy8a"
      },
      "execution_count": 10,
      "outputs": []
    },
    {
      "cell_type": "markdown",
      "source": [
        "Our data is ready for training a model. Now let's build a model. We are going to build classic LeNet-5 for this experiment."
      ],
      "metadata": {
        "id": "zHxRSY-lafhY"
      }
    },
    {
      "cell_type": "markdown",
      "source": [
        "### 4. Build the Model"
      ],
      "metadata": {
        "id": "3RT74AgBa2uS"
      }
    },
    {
      "cell_type": "code",
      "source": [
        "import torch.nn as nn"
      ],
      "metadata": {
        "id": "onVFdaKNa57b"
      },
      "execution_count": 11,
      "outputs": []
    },
    {
      "cell_type": "code",
      "source": [
        "class LeNet(nn.Module):\n",
        "  def __init__(self,\n",
        "               input_shape,\n",
        "               classes):\n",
        "    super().__init__()\n",
        "    self.Layer1 = nn.Conv2d(in_channels = input_shape, out_channels =6, padding=2, kernel_size=(5,5))\n",
        "    self.Maxpool1 = nn.MaxPool2d(kernel_size=(2,2), stride=2)\n",
        "    self.Layer2 = nn.Conv2d(in_channels=6, out_channels = 16, padding = 0, kernel_size=(5,5))\n",
        "    self.Maxpool2 = nn.MaxPool2d(kernel_size=(2,2), stride=2)\n",
        "    self.Dense1 = nn.Linear(16*5*5,120)\n",
        "    self.Dense2 = nn.Linear(120,84)\n",
        "    self.Dense3 = nn.Linear(84,10)\n",
        "    self.Relu = nn.ReLU()\n",
        "    self.flatten = nn.Flatten()\n",
        "\n",
        "  def forward(self, x):\n",
        "    # print(\"Input\",x.shape)\n",
        "    x = self.Layer1(x)\n",
        "    # print(\"Cov1\",x.shape)\n",
        "    x = self.Relu(x)\n",
        "    # print(\"Relu\",x.shape)\n",
        "    x = self.Maxpool1(x)\n",
        "    # print(\"Maxpool1\",x.shape)\n",
        "    x = self.Layer2(x)\n",
        "\n",
        "    #x = torch.flatten()\n",
        "    # print(\"Conv2\",x.shape)\n",
        "    x = self.Relu(x)\n",
        "    x = self.Maxpool2(x)\n",
        "    # print(\"Maxpool2\",x.shape)\n",
        "    x = self.flatten(x)\n",
        "    # print(\"Flattend Shape: \",x.shape)\n",
        "    x = self.Dense1(x)\n",
        "    x = self.Dense2(x)\n",
        "    x = self.Dense3(x)\n",
        "    # print(\"Dense 3\", x.shape)\n",
        "    return x"
      ],
      "metadata": {
        "id": "IergsebwbqFT"
      },
      "execution_count": 12,
      "outputs": []
    },
    {
      "cell_type": "code",
      "source": [
        "classes = train_data.classes\n",
        "print(classes)"
      ],
      "metadata": {
        "colab": {
          "base_uri": "https://localhost:8080/"
        },
        "id": "4LSygbnvjhDj",
        "outputId": "71b5c67c-5169-4e4e-c9d2-e5e5c6288ab5"
      },
      "execution_count": 13,
      "outputs": [
        {
          "output_type": "stream",
          "name": "stdout",
          "text": [
            "['0 - zero', '1 - one', '2 - two', '3 - three', '4 - four', '5 - five', '6 - six', '7 - seven', '8 - eight', '9 - nine']\n"
          ]
        }
      ]
    },
    {
      "cell_type": "code",
      "source": [
        "# Let's Instanitate our model\n",
        "model = LeNet(1, len(classes)).to(device) # LeNet(input_channels, number of classes)"
      ],
      "metadata": {
        "id": "hGMV_Qw3jQns"
      },
      "execution_count": 14,
      "outputs": []
    },
    {
      "cell_type": "code",
      "source": [
        "model"
      ],
      "metadata": {
        "colab": {
          "base_uri": "https://localhost:8080/"
        },
        "id": "VCiS2CFkkIp0",
        "outputId": "245860f8-3cac-4fb2-f8d1-1d36cfd29456"
      },
      "execution_count": 15,
      "outputs": [
        {
          "output_type": "execute_result",
          "data": {
            "text/plain": [
              "LeNet(\n",
              "  (Layer1): Conv2d(1, 6, kernel_size=(5, 5), stride=(1, 1), padding=(2, 2))\n",
              "  (Maxpool1): MaxPool2d(kernel_size=(2, 2), stride=2, padding=0, dilation=1, ceil_mode=False)\n",
              "  (Layer2): Conv2d(6, 16, kernel_size=(5, 5), stride=(1, 1))\n",
              "  (Maxpool2): MaxPool2d(kernel_size=(2, 2), stride=2, padding=0, dilation=1, ceil_mode=False)\n",
              "  (Dense1): Linear(in_features=400, out_features=120, bias=True)\n",
              "  (Dense2): Linear(in_features=120, out_features=84, bias=True)\n",
              "  (Dense3): Linear(in_features=84, out_features=10, bias=True)\n",
              "  (Relu): ReLU()\n",
              "  (flatten): Flatten(start_dim=1, end_dim=-1)\n",
              ")"
            ]
          },
          "metadata": {},
          "execution_count": 15
        }
      ]
    },
    {
      "cell_type": "markdown",
      "source": [
        "### 5. Setup the Optimizer and Loss Function"
      ],
      "metadata": {
        "id": "zTbEbgJ18kvb"
      }
    },
    {
      "cell_type": "code",
      "source": [
        "# loss\n",
        "criterion = nn.CrossEntropyLoss()\n",
        "\n",
        "# optimizer\n",
        "optimizer = torch.optim.SGD(model.parameters(), lr=0.01 )"
      ],
      "metadata": {
        "id": "rliqA2pDp2dU"
      },
      "execution_count": 16,
      "outputs": []
    },
    {
      "cell_type": "code",
      "source": [
        "def calculate_accuracy(y_pred, y_true):\n",
        "  y_pred = y_pred.argmax(dim=1)\n",
        "  correct = (y_pred == y_true).sum().item()\n",
        "  return correct / len(y_pred)"
      ],
      "metadata": {
        "id": "TOM54b8yqWII"
      },
      "execution_count": 17,
      "outputs": []
    },
    {
      "cell_type": "code",
      "source": [
        "### Write Training and Testing Loops\n",
        "if device == \"cpu\":\n",
        "  torch.manual_seed(42)\n",
        "else:\n",
        "  torch.cuda.manual_seed(42)\n",
        "\n",
        "\n",
        "epochs = 5\n",
        "\n",
        "train_loss_lenet = []\n",
        "test_loss_lenet = []\n",
        "\n",
        "train_acc_lenet = []\n",
        "test_acc_lenet = []\n",
        "\n",
        "for epoch in tqdm(range(epochs)):\n",
        "\n",
        "  train_loss, train_acc = 0, 0\n",
        "\n",
        "  # set model in training mode\n",
        "  model.train()\n",
        "\n",
        "  print(f\"Starting Epoch {epoch} \\n\")\n",
        "  for batch ,(X_train, y_train) in enumerate(train_dataloader):\n",
        "    X_train, y_train = X_train.to(device), y_train.to(device)\n",
        "    # forward propagation\n",
        "    y_pred = model(X_train)\n",
        "    # print(\"y_train_size: \",{y_train.size()})\n",
        "    # print(\"y_pred_size: \",{y_pred.size()})\n",
        "\n",
        "    # loss\n",
        "    loss = criterion(y_pred, y_train)\n",
        "    train_loss = train_loss + loss\n",
        "\n",
        "    # accuracy\n",
        "    acc = calculate_accuracy(y_pred, y_train)\n",
        "    train_acc = train_acc + acc\n",
        "\n",
        "    # optimizer.zero_grad()\n",
        "    optimizer.zero_grad()\n",
        "\n",
        "    # Backpropagation\n",
        "    loss.backward()\n",
        "\n",
        "    #optimizer setp\n",
        "    optimizer.step()\n",
        "\n",
        "  train_loss = train_loss / len(train_dataloader)\n",
        "  train_acc = train_acc / len(train_dataloader)\n",
        "  train_loss_lenet.append(train_loss.cpu().detach().numpy())\n",
        "  train_acc_lenet.append(train_acc)\n",
        "\n",
        "  # test\n",
        "  test_loss, test_acc = 0,0\n",
        "  model.eval()\n",
        "  with torch.inference_mode():\n",
        "    for X_test, y_test in test_dataloader:\n",
        "      X_test, y_test = X_test.to(device), y_test.to(device)\n",
        "      y_test_pred = model(X_test)\n",
        "\n",
        "      # loss\n",
        "      test_loss += criterion(y_test_pred, y_test)\n",
        "\n",
        "      #accuracy\n",
        "      test_acc += calculate_accuracy(y_test_pred, y_test)\n",
        "\n",
        "    test_acc_lenet.append(test_acc)\n",
        "    test_loss_lenet.append(test_loss.cpu().detach().numpy())\n",
        "  print(f\"Epoch {epoch} trained!\")"
      ],
      "metadata": {
        "colab": {
          "base_uri": "https://localhost:8080/"
        },
        "id": "IBr6wL5r8n-W",
        "outputId": "84058df9-d3fa-42e0-b1c3-be35f90824c2"
      },
      "execution_count": 19,
      "outputs": [
        {
          "output_type": "stream",
          "name": "stderr",
          "text": [
            "\r  0%|          | 0/5 [00:00<?, ?it/s]"
          ]
        },
        {
          "output_type": "stream",
          "name": "stdout",
          "text": [
            "Starting Epoch 0 \n",
            "\n"
          ]
        },
        {
          "output_type": "stream",
          "name": "stderr",
          "text": [
            "\r 20%|██        | 1/5 [00:45<03:02, 45.73s/it]"
          ]
        },
        {
          "output_type": "stream",
          "name": "stdout",
          "text": [
            "Epoch 0 trained!\n",
            "Starting Epoch 1 \n",
            "\n"
          ]
        },
        {
          "output_type": "stream",
          "name": "stderr",
          "text": [
            "\r 40%|████      | 2/5 [01:30<02:15, 45.10s/it]"
          ]
        },
        {
          "output_type": "stream",
          "name": "stdout",
          "text": [
            "Epoch 1 trained!\n",
            "Starting Epoch 2 \n",
            "\n"
          ]
        },
        {
          "output_type": "stream",
          "name": "stderr",
          "text": [
            "\r 60%|██████    | 3/5 [02:14<01:29, 44.69s/it]"
          ]
        },
        {
          "output_type": "stream",
          "name": "stdout",
          "text": [
            "Epoch 2 trained!\n",
            "Starting Epoch 3 \n",
            "\n"
          ]
        },
        {
          "output_type": "stream",
          "name": "stderr",
          "text": [
            "\r 80%|████████  | 4/5 [02:58<00:44, 44.42s/it]"
          ]
        },
        {
          "output_type": "stream",
          "name": "stdout",
          "text": [
            "Epoch 3 trained!\n",
            "Starting Epoch 4 \n",
            "\n"
          ]
        },
        {
          "output_type": "stream",
          "name": "stderr",
          "text": [
            "100%|██████████| 5/5 [03:43<00:00, 44.80s/it]"
          ]
        },
        {
          "output_type": "stream",
          "name": "stdout",
          "text": [
            "Epoch 4 trained!\n"
          ]
        },
        {
          "output_type": "stream",
          "name": "stderr",
          "text": [
            "\n"
          ]
        }
      ]
    },
    {
      "cell_type": "markdown",
      "source": [
        "### 6. Plot results"
      ],
      "metadata": {
        "id": "KMLSMmXa68AY"
      }
    },
    {
      "cell_type": "code",
      "source": [
        "figure = plt.figure(figsize=(5,4))\n",
        "plt.plot(range(0,epochs,1), train_loss_lenet, color ='b')\n",
        "plt.xlabel(\"Loss\")\n",
        "plt.ylabel(\"Epochs\")\n",
        "plt.title(\"Training Loss\")\n",
        "plt.show()"
      ],
      "metadata": {
        "id": "RmmLJCKh6-7g",
        "colab": {
          "base_uri": "https://localhost:8080/",
          "height": 410
        },
        "outputId": "9c3c012f-6abe-4a11-d9f8-ad8528197e6b"
      },
      "execution_count": 33,
      "outputs": [
        {
          "output_type": "display_data",
          "data": {
            "text/plain": [
              "<Figure size 500x400 with 1 Axes>"
            ],
            "image/png": "[encoded data removed]"
          },
          "metadata": {}
        }
      ]
    },
    {
      "cell_type": "code",
      "source": [
        "figure = plt.figure(figsize=(5,4))\n",
        "plt.plot(range(0,epochs,1), test_loss_lenet, color ='b')\n",
        "plt.xlabel(\"Loss\")\n",
        "plt.ylabel(\"Epochs\")\n",
        "plt.title(\"Tes Loss\")\n",
        "plt.show()"
      ],
      "metadata": {
        "colab": {
          "base_uri": "https://localhost:8080/",
          "height": 410
        },
        "id": "wW2DS4BeFCc6",
        "outputId": "f0c0ee52-6f53-4837-9fdb-6fd746d9d3a1"
      },
      "execution_count": 40,
      "outputs": [
        {
          "output_type": "display_data",
          "data": {
            "text/plain": [
              "<Figure size 500x400 with 1 Axes>"
            ],
            "image/png": "[encoded data removed]"
          },
          "metadata": {}
        }
      ]
    },
    {
      "cell_type": "code",
      "source": [
        "figure = plt.figure(figsize=(5,4))\n",
        "plt.plot(range(0,epochs,1), train_acc_lenet, color ='g')\n",
        "plt.xlabel(\"Loss\")\n",
        "plt.ylabel(\"Epochs\")\n",
        "plt.title(\"Training Accuracy\")\n",
        "plt.show()"
      ],
      "metadata": {
        "colab": {
          "base_uri": "https://localhost:8080/",
          "height": 410
        },
        "id": "PUNJMT8cF27H",
        "outputId": "04b12c30-758c-4066-f34c-0c0475fd56d1"
      },
      "execution_count": 39,
      "outputs": [
        {
          "output_type": "display_data",
          "data": {
            "text/plain": [
              "<Figure size 500x400 with 1 Axes>"
            ],
            "image/png": "[encoded data removed]"
          },
          "metadata": {}
        }
      ]
    },
    {
      "cell_type": "code",
      "source": [
        "figure = plt.figure(figsize=(5,4))\n",
        "plt.plot(range(0,epochs,1), test_acc_lenet, color ='g')\n",
        "plt.xlabel(\"Loss\")\n",
        "plt.ylabel(\"Epochs\")\n",
        "plt.title(\"Tes Accuracy\")\n",
        "plt.show()"
      ],
      "metadata": {
        "colab": {
          "base_uri": "https://localhost:8080/",
          "height": 410
        },
        "id": "q7_F_KyiF9AB",
        "outputId": "e91d0ceb-624a-457c-8465-5f44ba7e6b4e"
      },
      "execution_count": 38,
      "outputs": [
        {
          "output_type": "display_data",
          "data": {
            "text/plain": [
              "<Figure size 500x400 with 1 Axes>"
            ],
            "image/png": "[encoded data removed]"
          },
          "metadata": {}
        }
      ]
    },
    {
      "cell_type": "markdown",
      "source": [
        "### 7. Let's Make Predictions with our model"
      ],
      "metadata": {
        "id": "k-0spFwAGGrZ"
      }
    },
    {
      "cell_type": "code",
      "source": [
        "image, target = test_data[0]\n",
        "plt.imshow(image.permute(1,2,0), cmap=\"binary\")\n",
        "plt.title(f\"target: {target}\")\n",
        "plt.show()\n",
        "\n",
        "model.eval()\n",
        "with torch.inference_mode():\n",
        "  image = image.unsqueeze(0)\n",
        "  prediction = model(image.to(device))\n",
        "\n",
        "print(f\"Predicted {prediction.argmax(1)}\")"
      ],
      "metadata": {
        "colab": {
          "base_uri": "https://localhost:8080/",
          "height": 469
        },
        "id": "Vtb0ZghlHQ66",
        "outputId": "060f48ef-26e6-4390-b380-464614caa7b5"
      },
      "execution_count": 80,
      "outputs": [
        {
          "output_type": "display_data",
          "data": {
            "text/plain": [
              "<Figure size 640x480 with 1 Axes>"
            ],
            "image/png": "[encoded data removed]"
          },
          "metadata": {}
        },
        {
          "output_type": "stream",
          "name": "stdout",
          "text": [
            "Predicted tensor([7], device='cuda:0')\n"
          ]
        }
      ]
    }
  ]
}