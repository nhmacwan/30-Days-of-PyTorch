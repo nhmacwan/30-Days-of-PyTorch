{
 "cells": [
  {
   "cell_type": "code",
   "execution_count": 23,
   "id": "d0878140",
   "metadata": {},
   "outputs": [
    {
     "name": "stdout",
     "output_type": "stream",
     "text": [
      "Hello Neel\n"
     ]
    }
   ],
   "source": [
    "\"\"\"\n",
    "Day1 : Hello World in PyTorch\n",
    "Author: Neel Macwan\n",
    "\n",
    "Here we have initiated a scalar of value 0.\n",
    "And in if loop we are checking if that is 0. \n",
    "When scalar is 0 the program prints \"Hello Neel\"\n",
    "\"\"\"\n",
    "#import library\n",
    "import torch\n",
    "\n",
    "#assign a scalar value 0 to a variable named zero\n",
    "zero = torch.tensor(0)\n",
    "\n",
    "if zero.item() == 0:\n",
    "    print(\"Hello Neel\")"
   ]
  },
  {
   "cell_type": "code",
   "execution_count": 25,
   "id": "a612d89a",
   "metadata": {},
   "outputs": [],
   "source": [
    "if zero.item() == 1:\n",
    "    \"\"\"\n",
    "    This loop wont print anything since the assigned value is 0,\n",
    "    and loop only executes if scalar is 1.\n",
    "    \"\"\"\n",
    "    print(\"Hello Neel\")"
   ]
  }
 ],
 "metadata": {
  "kernelspec": {
   "display_name": "Python 3 (ipykernel)",
   "language": "python",
   "name": "python3"
  },
  "language_info": {
   "codemirror_mode": {
    "name": "ipython",
    "version": 3
   },
   "file_extension": ".py",
   "mimetype": "text/x-python",
   "name": "python",
   "nbconvert_exporter": "python",
   "pygments_lexer": "ipython3",
   "version": "3.10.9"
  }
 },
 "nbformat": 4,
 "nbformat_minor": 5
}
