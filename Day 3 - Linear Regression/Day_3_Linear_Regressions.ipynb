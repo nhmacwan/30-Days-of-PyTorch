{
  "nbformat": 4,
  "nbformat_minor": 0,
  "metadata": {
    "colab": {
      "provenance": []
    },
    "kernelspec": {
      "name": "python3",
      "display_name": "Python 3"
    },
    "language_info": {
      "name": "python"
    }
  },
  "cells": [
    {
      "cell_type": "code",
      "source": [
        "import torch\n",
        "from tqdm import tqdm\n",
        "torch.__version__"
      ],
      "metadata": {
        "colab": {
          "base_uri": "https://localhost:8080/",
          "height": 35
        },
        "id": "wYcUpRZjcvF9",
        "outputId": "19ce36ee-43f5-4157-b160-d12929e56755"
      },
      "execution_count": 59,
      "outputs": [
        {
          "output_type": "execute_result",
          "data": {
            "text/plain": [
              "'2.0.1+cu118'"
            ],
            "application/vnd.google.colaboratory.intrinsic+json": {
              "type": "string"
            }
          },
          "metadata": {},
          "execution_count": 59
        }
      ]
    },
    {
      "cell_type": "markdown",
      "source": [
        "### Creating a sample dataset for linear regresion"
      ],
      "metadata": {
        "id": "I_yb_DWZa4DQ"
      }
    },
    {
      "cell_type": "code",
      "source": [
        "# here we will try to make data as linear as possible\n",
        "weight = 0.5 # slope\n",
        "bias = 0.33 # intercept\n",
        "\n",
        "# Let's create 150 datapoints\n",
        "start, end, step = 0, 150, 1 # start, end, and stepsize of data is assigned\n",
        "\n",
        "# generate X values based on start and end of data and step size\n",
        "X = torch.arange(start, end, 1, dtype=torch.float32).unsqueeze(dim=1)\n",
        "\n",
        "# now create y valuees based on known parameters\n",
        "y = weight * X + bias"
      ],
      "metadata": {
        "id": "3r04yfE4b_sV"
      },
      "execution_count": 29,
      "outputs": []
    },
    {
      "cell_type": "code",
      "source": [
        "len(X)"
      ],
      "metadata": {
        "colab": {
          "base_uri": "https://localhost:8080/"
        },
        "id": "jXo7kUsLesWO",
        "outputId": "e6f94160-1cb9-4049-c3ce-3227464b5c9b"
      },
      "execution_count": 30,
      "outputs": [
        {
          "output_type": "execute_result",
          "data": {
            "text/plain": [
              "150"
            ]
          },
          "metadata": {},
          "execution_count": 30
        }
      ]
    },
    {
      "cell_type": "markdown",
      "source": [
        "### Let's visualize our data"
      ],
      "metadata": {
        "id": "vMgV4OxoduLl"
      }
    },
    {
      "cell_type": "code",
      "source": [
        "#Here we are importing libraries for visualization\n",
        "import matplotlib.pyplot as plt"
      ],
      "metadata": {
        "id": "EoSyf4f9dxbF"
      },
      "execution_count": 31,
      "outputs": []
    },
    {
      "cell_type": "code",
      "source": [
        "# lets visualize our data\n",
        "plt.figure()\n",
        "plt.scatter(X,y, s=0.7, label=\"data\") # here s controls the size of marker\n",
        "plt.legend(fontsize=12)\n",
        "plt.show()"
      ],
      "metadata": {
        "colab": {
          "base_uri": "https://localhost:8080/",
          "height": 430
        },
        "id": "pmGmJydseGGM",
        "outputId": "233d754c-c4e2-492f-890c-f3e199a0039b"
      },
      "execution_count": 32,
      "outputs": [
        {
          "output_type": "display_data",
          "data": {
            "text/plain": [
              "<Figure size 640x480 with 1 Axes>"
            ],
            "image/png": "[encoded data removed]"
          },
          "metadata": {}
        }
      ]
    },
    {
      "cell_type": "markdown",
      "source": [
        "### Create Training and Testing Data\n"
      ],
      "metadata": {
        "id": "gAm10TQMgH9d"
      }
    },
    {
      "cell_type": "code",
      "source": [
        "# for creating training and testing data we are going to use train_test_splie module from sklearn\n",
        "# Let's import our requirements\n",
        "from sklearn.model_selection import train_test_split\n",
        "\n",
        "# we are going to create a split of 80% samples as training and 20% samples as testing\n",
        "# random state controls random shuffling of the split\n",
        "X_train, X_test, y_train, y_test = train_test_split(X, y, test_size = 0.2, random_state = 42)"
      ],
      "metadata": {
        "id": "lyXS94g_gGc-"
      },
      "execution_count": 33,
      "outputs": []
    },
    {
      "cell_type": "code",
      "source": [
        "print(f\" length of X_train: {len(X_train)} samples and y_train {len(y_train)} samples\", end=\"\\n\")\n",
        "print(f\" length of X_test: {len(X_test)} samples and y_test {len(y_test)} samples\", end=\"\\n\")"
      ],
      "metadata": {
        "colab": {
          "base_uri": "https://localhost:8080/"
        },
        "id": "svbqwpPljgoO",
        "outputId": "9d32cc88-1891-4a3e-959d-5e88568fba8f"
      },
      "execution_count": 34,
      "outputs": [
        {
          "output_type": "stream",
          "name": "stdout",
          "text": [
            " length of X_train: 120 samples and y_train 120 samples\n",
            " length of X_test: 30 samples and y_test 30 samples\n"
          ]
        }
      ]
    },
    {
      "cell_type": "code",
      "source": [
        "# let's visualize our trainig and testing split\n",
        "# here we are writing a function to visualize our data so it can be used later\n",
        "\n",
        "def visualize(X, y, color: str, label: str) :\n",
        "  plt.figure()\n",
        "  plt.scatter(X, y, s=10, c = color, label = label)\n",
        "  plt.legend()\n",
        "  plt.show()"
      ],
      "metadata": {
        "id": "J7pw1mi0h7GW"
      },
      "execution_count": 35,
      "outputs": []
    },
    {
      "cell_type": "code",
      "source": [
        "visualize(X_train, y_train, 'r', 'Training Data')"
      ],
      "metadata": {
        "colab": {
          "base_uri": "https://localhost:8080/",
          "height": 430
        },
        "id": "WCKaDZ3LjE_1",
        "outputId": "7da4dcb6-07a2-4b43-8dc0-ae0940d7cbf2"
      },
      "execution_count": 36,
      "outputs": [
        {
          "output_type": "display_data",
          "data": {
            "text/plain": [
              "<Figure size 640x480 with 1 Axes>"
            ],
            "image/png": "[encoded data removed]"
          },
          "metadata": {}
        }
      ]
    },
    {
      "cell_type": "code",
      "source": [
        "visualize(X_test, y_test, 'g', 'Testing Data')"
      ],
      "metadata": {
        "colab": {
          "base_uri": "https://localhost:8080/",
          "height": 430
        },
        "id": "ZzgwFKS_kzuW",
        "outputId": "cf78f951-297e-464f-f235-b124bbe402c3"
      },
      "execution_count": 37,
      "outputs": [
        {
          "output_type": "display_data",
          "data": {
            "text/plain": [
              "<Figure size 640x480 with 1 Axes>"
            ],
            "image/png": "[encoded data removed]"
          },
          "metadata": {}
        }
      ]
    },
    {
      "cell_type": "markdown",
      "source": [
        "### now let's create a linear model"
      ],
      "metadata": {
        "id": "DP9ITNEKlQ9P"
      }
    },
    {
      "cell_type": "code",
      "source": [
        "# to create a pytorch model we need to import nn\n",
        "import torch.nn as nn\n",
        "\n",
        "# let's create a class to define linear model in pytorch\n",
        "\n",
        "class LinearRegression(nn.Module):\n",
        "  def __init__(self):\n",
        "     super().__init__()\n",
        "     self.linear_layer = nn.Linear(in_features = 1, out_features = 1)\n",
        "  \n",
        "  def forward(self, X):\n",
        "    y = self.linear_layer(X)\n",
        "    return y"
      ],
      "metadata": {
        "id": "fzA0CWbilb21"
      },
      "execution_count": 228,
      "outputs": []
    },
    {
      "cell_type": "code",
      "source": [
        "# let's create an instance of the model we have created\n",
        "Lr = LinearRegression()\n",
        "\n",
        "# print(list(Lr.parameters()), end=\"\\n\")\n",
        "\n",
        "# state_dict() gives us randomly initiated weights and biases\n",
        "Lr.state_dict()"
      ],
      "metadata": {
        "colab": {
          "base_uri": "https://localhost:8080/"
        },
        "id": "UJPNS7Wxm3Eu",
        "outputId": "60d45fc4-f2b1-4b53-f996-b6bd65408bd9"
      },
      "execution_count": 229,
      "outputs": [
        {
          "output_type": "execute_result",
          "data": {
            "text/plain": [
              "OrderedDict([('linear_layer.weight', tensor([[0.7645]])),\n",
              "             ('linear_layer.bias', tensor([0.8300]))])"
            ]
          },
          "metadata": {},
          "execution_count": 229
        }
      ]
    },
    {
      "cell_type": "markdown",
      "source": [
        "### Training and Testing\n"
      ],
      "metadata": {
        "id": "tL1OS5Y0oZOP"
      }
    },
    {
      "cell_type": "code",
      "source": [
        "# mean absolute error loss\n",
        "loss_function = nn.L1Loss() \n",
        "optimizer = torch.optim.SGD(params = Lr.parameters(), lr = 0.05)"
      ],
      "metadata": {
        "id": "_utItRbaL1Ia"
      },
      "execution_count": 230,
      "outputs": []
    },
    {
      "cell_type": "code",
      "source": [
        "y_pred = Lr(X_train)\n",
        "loss = loss_function(y_pred, y_train)\n",
        "print(loss)"
      ],
      "metadata": {
        "colab": {
          "base_uri": "https://localhost:8080/"
        },
        "id": "pWfmmbfMWH8k",
        "outputId": "a1f2d18c-67bb-456a-eaa6-e9532a1ed745"
      },
      "execution_count": 210,
      "outputs": [
        {
          "output_type": "stream",
          "name": "stdout",
          "text": [
            "tensor(536.3853, grad_fn=<MseLossBackward0>)\n"
          ]
        }
      ]
    },
    {
      "cell_type": "code",
      "source": [
        "#from scipy.sparse.linalg._eigen import test\n",
        "lr = 0.05\n",
        "epochs = 500\n",
        "\n",
        "training_loss = []\n",
        "test_loss = []\n",
        "\n",
        "torch.manual_seed(42)\n",
        "\n",
        "#tqdm is used for showing a progress bar\n",
        "for epoch in tqdm(range(epochs)):\n",
        "  # setting our model in training mode\n",
        "  Lr.train()\n",
        "\n",
        "  # 1. forward pass\n",
        "  y_pred = Lr(X_train)\n",
        "\n",
        "  # 2. calculate loss\n",
        "  loss = loss_function(y_pred, y_train)\n",
        "  training_loss.append(loss.detach())\n",
        "\n",
        "  #3. optimizer.zero_grad()\n",
        "  optimizer.zero_grad()\n",
        "\n",
        "  #4. back propagation\n",
        "  loss.backward()\n",
        "\n",
        "  #5. Update the parameters\n",
        "  optimizer.step()\n",
        "  \n",
        "  # setting our model into eval mode\n",
        "  Lr.eval()\n",
        "  # testing loop\n",
        "  with torch.inference_mode():\n",
        "    \"\"\"\n",
        "    we are not updating parametrs in this loop;\n",
        "    it is just a foraward pass.\n",
        "    \"\"\"\n",
        "    #1. forward pass\n",
        "    y_test_pred = Lr(X_test)\n",
        "\n",
        "    # 2. calculate loss\n",
        "    testing_loss = loss_function(y_test_pred, y_test)\n",
        "\n",
        "    test_loss.append(testing_loss.detach())\n",
        "\n",
        "    print(f\"epoch {epoch} : train loss {loss.detach(): .2f} , test loss {testing_loss.detach():.2f}\")\n",
        "print(\"Trained\")"
      ],
      "metadata": {
        "id": "vFW6s3okodnW"
      },
      "execution_count": null,
      "outputs": []
    },
    {
      "cell_type": "markdown",
      "source": [
        "### Let's Print the Results"
      ],
      "metadata": {
        "id": "GdV2GaYFRKUz"
      }
    },
    {
      "cell_type": "code",
      "source": [
        "# Here we will update our function\n",
        "def visualize(X, y, color: str, label: str, model) :\n",
        "  model.eval()\n",
        "  with torch.inference_mode():\n",
        "    y_predictions = model(X)\n",
        "  plt.figure()\n",
        "  plt.scatter(X, y, s=10, c = color, label = label)\n",
        "  plt.scatter(X_test,y_predictions.detach().numpy(), s=10)\n",
        "  plt.legend()\n",
        "  plt.show()"
      ],
      "metadata": {
        "id": "mt_On0OTRNlS"
      },
      "execution_count": 226,
      "outputs": []
    },
    {
      "cell_type": "code",
      "source": [
        "visualize(X_test, y_test, 'g', 'results', Lr)"
      ],
      "metadata": {
        "colab": {
          "base_uri": "https://localhost:8080/",
          "height": 430
        },
        "id": "x3GuEzqjRozK",
        "outputId": "da3c6f0c-56d1-4364-a097-50855fe76920"
      },
      "execution_count": 235,
      "outputs": [
        {
          "output_type": "display_data",
          "data": {
            "text/plain": [
              "<Figure size 640x480 with 1 Axes>"
            ],
            "image/png": "[encoded data removed]"
          },
          "metadata": {}
        }
      ]
    }
  ]
}