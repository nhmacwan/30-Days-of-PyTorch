{
  "nbformat": 4,
  "nbformat_minor": 0,
  "metadata": {
    "colab": {
      "provenance": []
    },
    "kernelspec": {
      "name": "python3",
      "display_name": "Python 3"
    },
    "language_info": {
      "name": "python"
    }
  },
  "cells": [
    {
      "cell_type": "code",
      "execution_count": 1,
      "metadata": {
        "id": "7Yt2xMHYSxwE"
      },
      "outputs": [],
      "source": [
        "import torch"
      ]
    },
    {
      "cell_type": "markdown",
      "source": [
        "### Initialize `ones` and `zeros`"
      ],
      "metadata": {
        "id": "huWcqphFYFc7"
      }
    },
    {
      "cell_type": "code",
      "source": [
        "#initialize ones of size 1x2\n",
        "ones = torch.ones(1,2)\n",
        "print(ones)"
      ],
      "metadata": {
        "colab": {
          "base_uri": "https://localhost:8080/"
        },
        "id": "8OqtXOFrTLWt",
        "outputId": "0a23212f-c0a4-49e3-fbee-0695cbcb5045"
      },
      "execution_count": 7,
      "outputs": [
        {
          "output_type": "stream",
          "name": "stdout",
          "text": [
            "tensor([[1., 1.]])\n"
          ]
        }
      ]
    },
    {
      "cell_type": "code",
      "source": [
        "#initialize zeros of size 3x4\n",
        "zeros = torch.zeros(3,4)\n",
        "print(zeros)"
      ],
      "metadata": {
        "colab": {
          "base_uri": "https://localhost:8080/"
        },
        "id": "4brIT0l_ToYk",
        "outputId": "4058f247-c92a-497a-cdc3-431c5bb46b62"
      },
      "execution_count": 9,
      "outputs": [
        {
          "output_type": "stream",
          "name": "stdout",
          "text": [
            "tensor([[0., 0., 0., 0.],\n",
            "        [0., 0., 0., 0.],\n",
            "        [0., 0., 0., 0.]])\n"
          ]
        }
      ]
    },
    {
      "cell_type": "markdown",
      "source": [
        "### Basic Operations"
      ],
      "metadata": {
        "id": "HSB_CF8RYA-d"
      }
    },
    {
      "cell_type": "code",
      "source": [
        "#Basic Operations\n",
        "a = torch.tensor(3) #Scalar of value 3\n",
        "b = torch.tensor(4) #Scalar of value 4\n",
        "\n",
        "#Addition\n",
        "c = a + b\n",
        "print(f\"c = a +b : {c}\")\n",
        "#Multiplication\n",
        "c = a * b\n",
        "print(f\"c = a x b : {c}\")\n",
        "#Subtraction\n",
        "c = a - b\n",
        "print(f\"c = a -b : {c}\")\n",
        "#Division\n",
        "c = a / b\n",
        "print(f\"c = a /b : {c}\")"
      ],
      "metadata": {
        "colab": {
          "base_uri": "https://localhost:8080/"
        },
        "id": "qCixYiuiT1xr",
        "outputId": "b7fe7b49-7e0f-4bc1-dfa4-2b04840e4577"
      },
      "execution_count": 69,
      "outputs": [
        {
          "output_type": "stream",
          "name": "stdout",
          "text": [
            "c = a +b : 7\n",
            "c = a x b : 12\n",
            "c = a -b : -1\n",
            "c = a /b : 0.75\n"
          ]
        }
      ]
    },
    {
      "cell_type": "markdown",
      "source": [
        "### Vector Operations"
      ],
      "metadata": {
        "id": "0HJof5BqYL6u"
      }
    },
    {
      "cell_type": "code",
      "source": [
        "#Vector Operations\n",
        "a = torch.tensor([1,2,3])\n",
        "b = torch.tensor([4,5,6])\n",
        "\n",
        "#Vector Addition\n",
        "c = a + b\n",
        "print(f\"a+b : {c}\")\n",
        "\n",
        "#Vector Subtractiom\n",
        "c = a - b\n",
        "print(f\"a+b : {c}\")\n",
        "\n",
        "#Multiplication (Elementwise)\n",
        "c = a * b\n",
        "print(f\"a x b: {c}\")\n",
        "\n",
        "#Multiplication (Dot Product)\n",
        "c = torch.matmul(a, b)\n",
        "print(f\"a • b: {c}\")"
      ],
      "metadata": {
        "colab": {
          "base_uri": "https://localhost:8080/"
        },
        "id": "gywmi19YX8Nd",
        "outputId": "4da2d936-bdc1-4975-8675-3e5777c6d211"
      },
      "execution_count": 79,
      "outputs": [
        {
          "output_type": "stream",
          "name": "stdout",
          "text": [
            "a+b : tensor([5, 7, 9])\n",
            "a+b : tensor([-3, -3, -3])\n",
            "a x b: tensor([ 4, 10, 18])\n",
            "a • b: 32\n"
          ]
        }
      ]
    },
    {
      "cell_type": "code",
      "source": [
        "#initialize a matrix of size 3x3\n",
        "torch.manual_seed(42)\n",
        "MATRIX = torch.rand(3,3)\n",
        "print(MATRIX)\n",
        "\n",
        "#Transpose of the matrix\n",
        "TRANSPOSE = MATRIX.t()\n",
        "print(\"\\nTranspose: \")\n",
        "print(TRANSPOSE)\n",
        "\n",
        "#Inverse of a matrix\n",
        "INVERSE = torch.linalg.inv(MATRIX)\n",
        "print(\"\\nInverse: \")\n",
        "print(INVERSE)\n",
        "\n",
        "#Unsqueeze operation (Adds an extra zeroth dimension)\n",
        "UNSQUEEZE = MATRIX.unsqueeze(dim=0) \n",
        "print(\"\\nUnsqueezed Tensor: \", UNSQUEEZE.shape)\n",
        "print(UNSQUEEZE)\n",
        "\n",
        "#Squeeze operation (Removes extra one dimensions)\n",
        "#Let's add one more extra dimension\n",
        "UNSQUEEZE = UNSQUEEZE.unsqueeze(dim=1)\n",
        "print(UNSQUEEZE.shape)\n",
        "\n",
        "#Now perfrom squeezing operation\n",
        "SQUEEZE = UNSQUEEZE.squeeze() \n",
        "print(\"\\nSqueezed Tensor: \", SQUEEZE.shape)\n",
        "print(SQUEEZE)"
      ],
      "metadata": {
        "colab": {
          "base_uri": "https://localhost:8080/"
        },
        "id": "5bsKIWAKUwQd",
        "outputId": "ae586d8c-0cd9-41d1-922b-82c22c895410"
      },
      "execution_count": 61,
      "outputs": [
        {
          "output_type": "stream",
          "name": "stdout",
          "text": [
            "tensor([[0.8823, 0.9150, 0.3829],\n",
            "        [0.9593, 0.3904, 0.6009],\n",
            "        [0.2566, 0.7936, 0.9408]])\n",
            "\n",
            "Transpose: \n",
            "tensor([[0.8823, 0.9593, 0.2566],\n",
            "        [0.9150, 0.3904, 0.7936],\n",
            "        [0.3829, 0.6009, 0.9408]])\n",
            "\n",
            "Inverse: \n",
            "tensor([[ 0.2074,  1.0543, -0.7579],\n",
            "        [ 1.4166, -1.3853,  0.3083],\n",
            "        [-1.2516,  0.8811,  1.0095]])\n",
            "\n",
            "Unsqueezed Tensor:  torch.Size([1, 3, 3])\n",
            "tensor([[[0.8823, 0.9150, 0.3829],\n",
            "         [0.9593, 0.3904, 0.6009],\n",
            "         [0.2566, 0.7936, 0.9408]]])\n",
            "torch.Size([1, 1, 3, 3])\n",
            "\n",
            "Squeezed Tensor:  torch.Size([3, 3])\n",
            "tensor([[0.8823, 0.9150, 0.3829],\n",
            "        [0.9593, 0.3904, 0.6009],\n",
            "        [0.2566, 0.7936, 0.9408]])\n"
          ]
        }
      ]
    }
  ]
}